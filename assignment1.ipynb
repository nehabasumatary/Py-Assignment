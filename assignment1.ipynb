{
  "nbformat": 4,
  "nbformat_minor": 0,
  "metadata": {
    "colab": {
      "name": "assignment1.ipynb",
      "provenance": [],
      "collapsed_sections": [],
      "authorship_tag": "ABX9TyMLbZ9FE/m3FPtOeN95f4dd",
      "include_colab_link": true
    },
    "kernelspec": {
      "name": "python3",
      "display_name": "Python 3"
    },
    "language_info": {
      "name": "python"
    }
  },
  "cells": [
    {
      "cell_type": "markdown",
      "metadata": {
        "id": "view-in-github",
        "colab_type": "text"
      },
      "source": [
        "<a href=\"https://colab.research.google.com/github/nehabasumatary/Py-Assignment/blob/main/assignment1.ipynb\" target=\"_parent\"><img src=\"https://colab.research.google.com/assets/colab-badge.svg\" alt=\"Open In Colab\"/></a>"
      ]
    },
    {
      "cell_type": "code",
      "metadata": {
        "id": "UdMeLBHvb2iH",
        "colab": {
          "base_uri": "https://localhost:8080/"
        },
        "outputId": "09200581-b5ef-4373-af1e-41788f5d828a"
      },
      "source": [
        "a = int(input(\"enter a\"))\n",
        "b = int(input(\"enter b\"))"
      ],
      "execution_count": 1,
      "outputs": [
        {
          "output_type": "stream",
          "text": [
            "enter a 8\n",
            "enter b 5\n"
          ],
          "name": "stdout"
        }
      ]
    },
    {
      "cell_type": "code",
      "metadata": {
        "id": "k9HiXPNUUZX3"
      },
      "source": [
        "Sum1 = a - b "
      ],
      "execution_count": 2,
      "outputs": []
    },
    {
      "cell_type": "code",
      "metadata": {
        "id": "DEQ-SlPRUkdG"
      },
      "source": [
        "Sum2 = a*b"
      ],
      "execution_count": 3,
      "outputs": []
    },
    {
      "cell_type": "code",
      "metadata": {
        "id": "o71OoIOoUmh7"
      },
      "source": [
        "Sum3 = a/b"
      ],
      "execution_count": 4,
      "outputs": []
    },
    {
      "cell_type": "code",
      "metadata": {
        "colab": {
          "base_uri": "https://localhost:8080/"
        },
        "id": "339dwqaYUoYT",
        "outputId": "1f6589d9-59fd-4fb4-a622-47b6d63c00f8"
      },
      "source": [
        "print(\"Subtraction of a and b is\", Sum1)"
      ],
      "execution_count": 5,
      "outputs": [
        {
          "output_type": "stream",
          "text": [
            "Subtraction of a and b is 3\n"
          ],
          "name": "stdout"
        }
      ]
    },
    {
      "cell_type": "code",
      "metadata": {
        "colab": {
          "base_uri": "https://localhost:8080/"
        },
        "id": "qN8Gy1g1Uwzb",
        "outputId": "c037e63b-6ef2-4fe6-cf97-ad5b79bfc503"
      },
      "source": [
        "print(\"Multiplication of a and b is\", Sum2)"
      ],
      "execution_count": 6,
      "outputs": [
        {
          "output_type": "stream",
          "text": [
            "Multiplication of a and b is 40\n"
          ],
          "name": "stdout"
        }
      ]
    },
    {
      "cell_type": "code",
      "metadata": {
        "colab": {
          "base_uri": "https://localhost:8080/"
        },
        "id": "5BQfzPSzU3Sq",
        "outputId": "3f9a24e3-4529-48d9-9030-b39642a5ae08"
      },
      "source": [
        "print(\"Division of a and b is\", Sum3)"
      ],
      "execution_count": 7,
      "outputs": [
        {
          "output_type": "stream",
          "text": [
            "Division of a and b is 1.6\n"
          ],
          "name": "stdout"
        }
      ]
    }
  ]
}