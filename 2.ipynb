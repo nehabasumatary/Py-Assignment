{
  "nbformat": 4,
  "nbformat_minor": 0,
  "metadata": {
    "colab": {
      "name": "2.ipynb",
      "provenance": [],
      "authorship_tag": "ABX9TyMyrsEXQpJORK1HmXGFrQx4"
    },
    "kernelspec": {
      "name": "python3",
      "display_name": "Python 3"
    },
    "language_info": {
      "name": "python"
    }
  },
  "cells": [
    {
      "cell_type": "code",
      "metadata": {
        "colab": {
          "base_uri": "https://localhost:8080/",
          "height": 35
        },
        "id": "drYkIvTaWd73",
        "outputId": "2b8df099-6751-4222-f89c-a58faf119f12"
      },
      "source": [
        "max_participants = 10\n",
        "participants = [\"Luna\", \"Sol\", \"Venus\", \"Mars\", \"Gaia\", \"Hera\", \"Leto\", \"Persephone\", \"Nyx\", \"Astris\"]\n",
        "import random\n",
        "n = random.randint(0, max_participants-1)\n",
        "participants[n]"
      ],
      "execution_count": null,
      "outputs": [
        {
          "output_type": "execute_result",
          "data": {
            "application/vnd.google.colaboratory.intrinsic+json": {
              "type": "string"
            },
            "text/plain": [
              "'Gaia'"
            ]
          },
          "metadata": {
            "tags": []
          },
          "execution_count": 1
        }
      ]
    }
  ]
}